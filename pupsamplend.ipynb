{
 "cells": [
  {
   "cell_type": "code",
   "execution_count": 1,
   "metadata": {},
   "outputs": [],
   "source": [
    "import torch\n",
    "import torch.nn as nn\n",
    "import torch.nn.functional as F"
   ]
  },
  {
   "cell_type": "code",
   "execution_count": 2,
   "metadata": {},
   "outputs": [],
   "source": [
    "torch.set_default_dtype(torch.float64)"
   ]
  },
  {
   "cell_type": "code",
   "execution_count": 12,
   "metadata": {},
   "outputs": [],
   "source": [
    "class PUpsamplend(nn.Module):\n",
    "    def __init__(self, scale_factor, n):\n",
    "        super(PUpsamplend, self).__init__()\n",
    "        self.scale_factor = scale_factor\n",
    "        self.n = n\n",
    "\n",
    "    def forward(self, x, shifts):\n",
    "        w = x.new_zeros(*((self.scale_factor,)*self.n))\n",
    "        w.view(-1)[0] = 1\n",
    "        # output = F.conv_transpose1d(x, w.expand(x.size(1), 1, self.scale_factor), stride = self.scale_factor, groups = x.size(1))\n",
    "        # indices = (torch.arange(output.shape[2])[None, None, :].repeat(1, 2, 1) - shifts[:, None, None]) % output.shape[2]\n",
    "        # output = torch.gather(output, 2, indices)\n",
    "        # return output"
   ]
  },
  {
   "cell_type": "code",
   "execution_count": 13,
   "metadata": {},
   "outputs": [],
   "source": [
    "model = PUpsamplend(2, 3)"
   ]
  },
  {
   "cell_type": "code",
   "execution_count": 6,
   "metadata": {},
   "outputs": [],
   "source": [
    "x = torch.tensor([1, 3, 4])"
   ]
  },
  {
   "cell_type": "code",
   "execution_count": 14,
   "metadata": {},
   "outputs": [
    {
     "name": "stdout",
     "output_type": "stream",
     "text": [
      "tensor([[[1, 0],\n",
      "         [0, 0]],\n",
      "\n",
      "        [[0, 0],\n",
      "         [0, 0]]]) torch.Size([2, 2, 2])\n"
     ]
    }
   ],
   "source": [
    "model(x, 2)"
   ]
  }
 ],
 "metadata": {
  "kernelspec": {
   "display_name": "diff2struct",
   "language": "python",
   "name": "python3"
  },
  "language_info": {
   "codemirror_mode": {
    "name": "ipython",
    "version": 3
   },
   "file_extension": ".py",
   "mimetype": "text/x-python",
   "name": "python",
   "nbconvert_exporter": "python",
   "pygments_lexer": "ipython3",
   "version": "3.9.13"
  }
 },
 "nbformat": 4,
 "nbformat_minor": 2
}
