{
 "cells": [
  {
   "cell_type": "code",
   "execution_count": 2,
   "metadata": {},
   "outputs": [],
   "source": [
    "import torch\n",
    "import torch.nn as nn\n",
    "import torch.nn.functional as F"
   ]
  },
  {
   "cell_type": "code",
   "execution_count": 3,
   "metadata": {},
   "outputs": [],
   "source": [
    "torch.set_default_dtype(torch.float64)"
   ]
  },
  {
   "cell_type": "code",
   "execution_count": 4,
   "metadata": {},
   "outputs": [],
   "source": [
    "class PUpsamplend(nn.Module):\n",
    "    def __init__(self, scale_factor, n):\n",
    "        super(PUpsamplend, self).__init__()\n",
    "        self.scale_factor = scale_factor\n",
    "        self.n = n\n",
    "        self.conv_transposes = {1: F.conv_transpose1d, 2: F.conv_transpose2d, 3: F.conv_transpose3d}\n",
    "\n",
    "    def forward(self, x, shifts):\n",
    "        w = x.new_zeros(*((self.scale_factor,)*self.n))\n",
    "        w.view(-1)[0] = 1\n",
    "        output = self.conv_transposes[self.n](x, w.expand(x.size(1), 1, *((self.scale_factor,)*self.n)), stride = self.scale_factor, groups = x.size(1))\n",
    "        for i in range(self.n):\n",
    "            indices = (torch.arange(output.shape[2+i])[None, None, :].repeat(1, 2, 1) - shifts[:, i][:, None, None]) % output.shape[2+i]\n",
    "            output = torch.gather(output, 2+i, indices)\n",
    "        return output"
   ]
  }
 ],
 "metadata": {
  "kernelspec": {
   "display_name": "diff2struct",
   "language": "python",
   "name": "python3"
  },
  "language_info": {
   "codemirror_mode": {
    "name": "ipython",
    "version": 3
   },
   "file_extension": ".py",
   "mimetype": "text/x-python",
   "name": "python",
   "nbconvert_exporter": "python",
   "pygments_lexer": "ipython3",
   "version": "3.9.13"
  }
 },
 "nbformat": 4,
 "nbformat_minor": 2
}
