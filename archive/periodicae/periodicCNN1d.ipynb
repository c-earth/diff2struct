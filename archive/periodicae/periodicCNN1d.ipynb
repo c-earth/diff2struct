{
 "cells": [
  {
   "cell_type": "markdown",
   "metadata": {},
   "source": [
    "# Periodic 1D CNN Classes"
   ]
  },
  {
   "cell_type": "code",
   "execution_count": 1,
   "metadata": {},
   "outputs": [],
   "source": [
    "import torch\n",
    "import torch.nn as nn\n",
    "import torch.nn.functional as F"
   ]
  },
  {
   "cell_type": "code",
   "execution_count": 2,
   "metadata": {},
   "outputs": [],
   "source": [
    "torch.set_default_dtype(torch.float64)"
   ]
  },
  {
   "cell_type": "code",
   "execution_count": 3,
   "metadata": {},
   "outputs": [],
   "source": [
    "class PConv1d(nn.Module):\n",
    "    def __init__(self, in_channels, out_channels, padding):\n",
    "        super(PConv1d, self).__init__()\n",
    "        \n",
    "        self.padding = (padding, padding)\n",
    "        self.conv1d = nn.Conv1d(in_channels, out_channels, 2*padding + 1)\n",
    "\n",
    "    def forward(self, x):\n",
    "        output = F.pad(x, self.padding, mode = 'circular')\n",
    "        output = self.conv1d(output)\n",
    "        return output"
   ]
  },
  {
   "cell_type": "code",
   "execution_count": 4,
   "metadata": {},
   "outputs": [],
   "source": [
    "class PMaxPool1d(nn.Module):\n",
    "    def __init__(self, kernel_size):\n",
    "        super(PMaxPool1d, self).__init__()\n",
    "        self.kernel_size = kernel_size\n",
    "        self.maxpool1d = nn.MaxPool1d(self.kernel_size)\n",
    "\n",
    "    def forward(self, x):\n",
    "        if x.shape[-1] > 2:\n",
    "            maxpooled_xs = torch.stack([self.maxpool1d(torch.roll(x, i, dims = -1)) for i in range(self.kernel_size)])\n",
    "            std_maxpooled_xs = torch.std(maxpooled_xs.view(self.kernel_size, x.shape[0], -1), dim = -1)\n",
    "            indices = torch.argmax(std_maxpooled_xs, dim = 0, keepdim = True)\n",
    "            output = torch.take_along_dim(maxpooled_xs, indices[:, :, None, None], dim = 0).squeeze(dim = 0)\n",
    "        else:\n",
    "            output = self.maxpool1d(x)\n",
    "        return output"
   ]
  },
  {
   "cell_type": "code",
   "execution_count": 5,
   "metadata": {},
   "outputs": [],
   "source": [
    "import numpy as np\n",
    "\n",
    "x = torch.from_numpy(np.random.random(6).reshape(1, 1, -1))"
   ]
  },
  {
   "cell_type": "markdown",
   "metadata": {},
   "source": [
    "# Test Convolution"
   ]
  },
  {
   "cell_type": "code",
   "execution_count": 6,
   "metadata": {},
   "outputs": [],
   "source": [
    "pconv = PConv1d(1, 2, 2)\n",
    "conv = nn.Conv1d(1, 2, 5, padding = 2)"
   ]
  },
  {
   "cell_type": "code",
   "execution_count": 7,
   "metadata": {},
   "outputs": [],
   "source": [
    "pconv_x = pconv(x)\n",
    "roll_pconv_x = torch.roll(pconv(torch.roll(x, 1, dims = -1)), -1, dims = -1)"
   ]
  },
  {
   "cell_type": "code",
   "execution_count": 8,
   "metadata": {},
   "outputs": [],
   "source": [
    "conv_x = conv(x)\n",
    "roll_conv_x = torch.roll(conv(torch.roll(x, 1, dims = -1)), -1, dims = -1)"
   ]
  },
  {
   "cell_type": "code",
   "execution_count": 9,
   "metadata": {},
   "outputs": [
    {
     "data": {
      "text/plain": [
       "0.0"
      ]
     },
     "execution_count": 9,
     "metadata": {},
     "output_type": "execute_result"
    }
   ],
   "source": [
    "torch.mean((pconv_x - roll_pconv_x)**2).item()**0.5"
   ]
  },
  {
   "cell_type": "code",
   "execution_count": 10,
   "metadata": {},
   "outputs": [
    {
     "data": {
      "text/plain": [
       "0.17003060432833264"
      ]
     },
     "execution_count": 10,
     "metadata": {},
     "output_type": "execute_result"
    }
   ],
   "source": [
    "torch.mean((conv_x - roll_conv_x)**2).item()**0.5"
   ]
  },
  {
   "cell_type": "markdown",
   "metadata": {},
   "source": [
    "# Test Max Pooling"
   ]
  },
  {
   "cell_type": "code",
   "execution_count": 11,
   "metadata": {},
   "outputs": [],
   "source": [
    "pmaxpool = PMaxPool1d(2)\n",
    "maxpool = nn.MaxPool1d(2)"
   ]
  },
  {
   "cell_type": "code",
   "execution_count": 12,
   "metadata": {},
   "outputs": [],
   "source": [
    "pmaxpool_x = pmaxpool(x)\n",
    "roll_pmaxpool_x = pmaxpool(torch.roll(x, 1, dims = -1))"
   ]
  },
  {
   "cell_type": "code",
   "execution_count": 13,
   "metadata": {},
   "outputs": [],
   "source": [
    "maxpool_x = maxpool(x)\n",
    "roll_maxpool_x = maxpool(torch.roll(x, 1, dims = -1))"
   ]
  },
  {
   "cell_type": "code",
   "execution_count": 14,
   "metadata": {},
   "outputs": [
    {
     "data": {
      "text/plain": [
       "tensor([[[0.3471, 0.7069, 0.7339, 0.8489, 0.2652, 0.4307]]])"
      ]
     },
     "execution_count": 14,
     "metadata": {},
     "output_type": "execute_result"
    }
   ],
   "source": [
    "x"
   ]
  },
  {
   "cell_type": "code",
   "execution_count": 15,
   "metadata": {},
   "outputs": [
    {
     "data": {
      "text/plain": [
       "tensor([[[0.4307, 0.7339, 0.8489]]])"
      ]
     },
     "execution_count": 15,
     "metadata": {},
     "output_type": "execute_result"
    }
   ],
   "source": [
    "pmaxpool_x"
   ]
  },
  {
   "cell_type": "code",
   "execution_count": 16,
   "metadata": {},
   "outputs": [
    {
     "data": {
      "text/plain": [
       "tensor([[[0.4307, 0.7339, 0.8489]]])"
      ]
     },
     "execution_count": 16,
     "metadata": {},
     "output_type": "execute_result"
    }
   ],
   "source": [
    "roll_pmaxpool_x"
   ]
  },
  {
   "cell_type": "code",
   "execution_count": 17,
   "metadata": {},
   "outputs": [
    {
     "data": {
      "text/plain": [
       "0.0"
      ]
     },
     "execution_count": 17,
     "metadata": {},
     "output_type": "execute_result"
    }
   ],
   "source": [
    "torch.mean((pmaxpool_x - roll_pmaxpool_x)**2).item()**0.5"
   ]
  },
  {
   "cell_type": "code",
   "execution_count": 18,
   "metadata": {},
   "outputs": [
    {
     "data": {
      "text/plain": [
       "0.2968667643470012"
      ]
     },
     "execution_count": 18,
     "metadata": {},
     "output_type": "execute_result"
    }
   ],
   "source": [
    "torch.mean((maxpool_x - roll_maxpool_x)**2).item()**0.5"
   ]
  }
 ],
 "metadata": {
  "kernelspec": {
   "display_name": "diff2struct",
   "language": "python",
   "name": "python3"
  },
  "language_info": {
   "codemirror_mode": {
    "name": "ipython",
    "version": 3
   },
   "file_extension": ".py",
   "mimetype": "text/x-python",
   "name": "python",
   "nbconvert_exporter": "python",
   "pygments_lexer": "ipython3",
   "version": "3.9.13"
  }
 },
 "nbformat": 4,
 "nbformat_minor": 2
}
