{
 "cells": [
  {
   "cell_type": "code",
   "execution_count": 1,
   "metadata": {},
   "outputs": [],
   "source": [
    "import numpy as np\n",
    "import torch\n",
    "import torch.nn as nn\n",
    "import torch.nn.functional as F"
   ]
  },
  {
   "cell_type": "code",
   "execution_count": 2,
   "metadata": {},
   "outputs": [],
   "source": [
    "torch.set_default_dtype(torch.float64)"
   ]
  },
  {
   "cell_type": "code",
   "execution_count": 3,
   "metadata": {},
   "outputs": [],
   "source": [
    "class PMaxPool1d(nn.Module):\n",
    "    def __init__(self, kernel_size):\n",
    "        super(PMaxPool1d, self).__init__()\n",
    "\n",
    "        self.kernel_size = kernel_size\n",
    "\n",
    "    def forward(self, x):\n",
    "        rolling = torch.stack([F.max_pool1d(torch.roll(x, i, dims = -1), self.kernel_size, self.kernel_size) for i in range(self.kernel_size)])\n",
    "        shifts = torch.argmax(torch.std(rolling.view(self.kernel_size, x.size(0), -1), dim = -1), dim = 0)\n",
    "        output = torch.take_along_dim(rolling, shifts.view(1, -1, 1, 1), dim = 0).squeeze(dim = 0)\n",
    "        return output, shifts"
   ]
  },
  {
   "cell_type": "code",
   "execution_count": 4,
   "metadata": {},
   "outputs": [],
   "source": [
    "x = torch.from_numpy(np.random.random((3, 2, 10)))"
   ]
  },
  {
   "cell_type": "code",
   "execution_count": 5,
   "metadata": {},
   "outputs": [
    {
     "data": {
      "text/plain": [
       "tensor([[[0.5206, 0.2159, 0.4187, 0.3348, 0.2149, 0.2942, 0.6424, 0.4777,\n",
       "          0.7326, 0.7020],\n",
       "         [0.8080, 0.1481, 0.5421, 0.4342, 0.6052, 0.2413, 0.8262, 0.8674,\n",
       "          0.1024, 0.3740]],\n",
       "\n",
       "        [[0.6393, 0.7396, 0.3426, 0.6652, 0.2888, 0.4326, 0.4716, 0.0042,\n",
       "          0.1273, 0.6447],\n",
       "         [0.5164, 0.3286, 0.6494, 0.9759, 0.8425, 0.8491, 0.7484, 0.7740,\n",
       "          0.0022, 0.2295]],\n",
       "\n",
       "        [[0.2749, 0.1573, 0.2811, 0.5702, 0.2340, 0.6992, 0.4367, 0.4872,\n",
       "          0.3189, 0.5648],\n",
       "         [0.7371, 0.0755, 0.9873, 0.5832, 0.4614, 0.6994, 0.5516, 0.9964,\n",
       "          0.7285, 0.1382]]])"
      ]
     },
     "execution_count": 5,
     "metadata": {},
     "output_type": "execute_result"
    }
   ],
   "source": [
    "x"
   ]
  },
  {
   "cell_type": "code",
   "execution_count": 6,
   "metadata": {},
   "outputs": [],
   "source": [
    "model = PMaxPool1d(2)"
   ]
  },
  {
   "cell_type": "code",
   "execution_count": 7,
   "metadata": {},
   "outputs": [],
   "source": [
    "output_x = model(x)"
   ]
  },
  {
   "cell_type": "code",
   "execution_count": 8,
   "metadata": {},
   "outputs": [],
   "source": [
    "y = torch.roll(x, 2, dims = -1)"
   ]
  },
  {
   "cell_type": "code",
   "execution_count": 9,
   "metadata": {},
   "outputs": [
    {
     "data": {
      "text/plain": [
       "tensor([[[0.7326, 0.7020, 0.5206, 0.2159, 0.4187, 0.3348, 0.2149, 0.2942,\n",
       "          0.6424, 0.4777],\n",
       "         [0.1024, 0.3740, 0.8080, 0.1481, 0.5421, 0.4342, 0.6052, 0.2413,\n",
       "          0.8262, 0.8674]],\n",
       "\n",
       "        [[0.1273, 0.6447, 0.6393, 0.7396, 0.3426, 0.6652, 0.2888, 0.4326,\n",
       "          0.4716, 0.0042],\n",
       "         [0.0022, 0.2295, 0.5164, 0.3286, 0.6494, 0.9759, 0.8425, 0.8491,\n",
       "          0.7484, 0.7740]],\n",
       "\n",
       "        [[0.3189, 0.5648, 0.2749, 0.1573, 0.2811, 0.5702, 0.2340, 0.6992,\n",
       "          0.4367, 0.4872],\n",
       "         [0.7285, 0.1382, 0.7371, 0.0755, 0.9873, 0.5832, 0.4614, 0.6994,\n",
       "          0.5516, 0.9964]]])"
      ]
     },
     "execution_count": 9,
     "metadata": {},
     "output_type": "execute_result"
    }
   ],
   "source": [
    "y"
   ]
  },
  {
   "cell_type": "code",
   "execution_count": 10,
   "metadata": {},
   "outputs": [],
   "source": [
    "output_y = model(y)"
   ]
  },
  {
   "cell_type": "code",
   "execution_count": 11,
   "metadata": {},
   "outputs": [
    {
     "data": {
      "text/plain": [
       "(tensor([[[0.5206, 0.4187, 0.2942, 0.6424, 0.7326],\n",
       "          [0.8080, 0.5421, 0.6052, 0.8674, 0.3740]],\n",
       " \n",
       "         [[0.6447, 0.7396, 0.6652, 0.4716, 0.1273],\n",
       "          [0.5164, 0.6494, 0.9759, 0.8491, 0.7740]],\n",
       " \n",
       "         [[0.2749, 0.5702, 0.6992, 0.4872, 0.5648],\n",
       "          [0.7371, 0.9873, 0.6994, 0.9964, 0.7285]]]),\n",
       " tensor([0, 1, 0]))"
      ]
     },
     "execution_count": 11,
     "metadata": {},
     "output_type": "execute_result"
    }
   ],
   "source": [
    "output_x"
   ]
  },
  {
   "cell_type": "code",
   "execution_count": 12,
   "metadata": {},
   "outputs": [
    {
     "data": {
      "text/plain": [
       "(tensor([[[0.7326, 0.5206, 0.4187, 0.2942, 0.6424],\n",
       "          [0.3740, 0.8080, 0.5421, 0.6052, 0.8674]],\n",
       " \n",
       "         [[0.1273, 0.6447, 0.7396, 0.6652, 0.4716],\n",
       "          [0.7740, 0.5164, 0.6494, 0.9759, 0.8491]],\n",
       " \n",
       "         [[0.5648, 0.2749, 0.5702, 0.6992, 0.4872],\n",
       "          [0.7285, 0.7371, 0.9873, 0.6994, 0.9964]]]),\n",
       " tensor([0, 1, 0]))"
      ]
     },
     "execution_count": 12,
     "metadata": {},
     "output_type": "execute_result"
    }
   ],
   "source": [
    "output_y"
   ]
  }
 ],
 "metadata": {
  "kernelspec": {
   "display_name": "diff2struct",
   "language": "python",
   "name": "python3"
  },
  "language_info": {
   "codemirror_mode": {
    "name": "ipython",
    "version": 3
   },
   "file_extension": ".py",
   "mimetype": "text/x-python",
   "name": "python",
   "nbconvert_exporter": "python",
   "pygments_lexer": "ipython3",
   "version": "3.9.13"
  }
 },
 "nbformat": 4,
 "nbformat_minor": 2
}
