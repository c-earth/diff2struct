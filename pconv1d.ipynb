{
 "cells": [
  {
   "cell_type": "code",
   "execution_count": 1,
   "metadata": {},
   "outputs": [],
   "source": [
    "import numpy as np\n",
    "import torch\n",
    "import torch.nn as nn\n",
    "import torch.nn.functional as F"
   ]
  },
  {
   "cell_type": "code",
   "execution_count": 2,
   "metadata": {},
   "outputs": [],
   "source": [
    "torch.set_default_dtype(torch.float64)"
   ]
  },
  {
   "cell_type": "code",
   "execution_count": 3,
   "metadata": {},
   "outputs": [],
   "source": [
    "class PConv1d(nn.Module):\n",
    "    def __init__(self, in_channels, out_channels, padding):\n",
    "        super(PConv1d, self).__init__()\n",
    "\n",
    "        self.padding = (padding, padding)\n",
    "        self.conv1d = nn.Conv1d(in_channels, out_channels, 2*padding+1)\n",
    "\n",
    "    def forward(self, x):\n",
    "        output = F.pad(x, self.padding, mode = 'circular')\n",
    "        output = self.conv1d(output)\n",
    "        return output"
   ]
  },
  {
   "cell_type": "code",
   "execution_count": 4,
   "metadata": {},
   "outputs": [],
   "source": [
    "x = torch.from_numpy(np.random.random((3, 2, 6)))"
   ]
  },
  {
   "cell_type": "code",
   "execution_count": 5,
   "metadata": {},
   "outputs": [
    {
     "data": {
      "text/plain": [
       "tensor([[[0.4601, 0.1074, 0.5794, 0.2621, 0.6896, 0.1012],\n",
       "         [0.4903, 0.8811, 0.3268, 0.9351, 0.1016, 0.0076]],\n",
       "\n",
       "        [[0.7071, 0.9346, 0.9202, 0.8002, 0.2073, 0.6473],\n",
       "         [0.2030, 0.9389, 0.8626, 0.9349, 0.7082, 0.0626]],\n",
       "\n",
       "        [[0.9739, 0.1031, 0.5058, 0.9502, 0.6955, 0.1554],\n",
       "         [0.2333, 0.5877, 0.6750, 0.7439, 0.5143, 0.6285]]])"
      ]
     },
     "execution_count": 5,
     "metadata": {},
     "output_type": "execute_result"
    }
   ],
   "source": [
    "x"
   ]
  },
  {
   "cell_type": "code",
   "execution_count": 6,
   "metadata": {},
   "outputs": [],
   "source": [
    "model = PConv1d(2, 2, 2)"
   ]
  },
  {
   "cell_type": "code",
   "execution_count": 7,
   "metadata": {},
   "outputs": [],
   "source": [
    "output_x = model(x)"
   ]
  },
  {
   "cell_type": "code",
   "execution_count": 8,
   "metadata": {},
   "outputs": [],
   "source": [
    "y = torch.roll(x, 3, dims = -1)"
   ]
  },
  {
   "cell_type": "code",
   "execution_count": 9,
   "metadata": {},
   "outputs": [
    {
     "data": {
      "text/plain": [
       "tensor([[[0.2621, 0.6896, 0.1012, 0.4601, 0.1074, 0.5794],\n",
       "         [0.9351, 0.1016, 0.0076, 0.4903, 0.8811, 0.3268]],\n",
       "\n",
       "        [[0.8002, 0.2073, 0.6473, 0.7071, 0.9346, 0.9202],\n",
       "         [0.9349, 0.7082, 0.0626, 0.2030, 0.9389, 0.8626]],\n",
       "\n",
       "        [[0.9502, 0.6955, 0.1554, 0.9739, 0.1031, 0.5058],\n",
       "         [0.7439, 0.5143, 0.6285, 0.2333, 0.5877, 0.6750]]])"
      ]
     },
     "execution_count": 9,
     "metadata": {},
     "output_type": "execute_result"
    }
   ],
   "source": [
    "y"
   ]
  },
  {
   "cell_type": "code",
   "execution_count": 10,
   "metadata": {},
   "outputs": [],
   "source": [
    "output_y = model(y)"
   ]
  },
  {
   "cell_type": "code",
   "execution_count": 11,
   "metadata": {},
   "outputs": [
    {
     "data": {
      "text/plain": [
       "tensor([[[0., 0., 0., 0., 0., 0.],\n",
       "         [0., 0., 0., 0., 0., 0.]],\n",
       "\n",
       "        [[0., 0., 0., 0., 0., 0.],\n",
       "         [0., 0., 0., 0., 0., 0.]],\n",
       "\n",
       "        [[0., 0., 0., 0., 0., 0.],\n",
       "         [0., 0., 0., 0., 0., 0.]]], grad_fn=<SubBackward0>)"
      ]
     },
     "execution_count": 11,
     "metadata": {},
     "output_type": "execute_result"
    }
   ],
   "source": [
    "output_x - torch.roll(output_y, -3, dims = -1)"
   ]
  }
 ],
 "metadata": {
  "kernelspec": {
   "display_name": "diff2struct",
   "language": "python",
   "name": "python3"
  },
  "language_info": {
   "codemirror_mode": {
    "name": "ipython",
    "version": 3
   },
   "file_extension": ".py",
   "mimetype": "text/x-python",
   "name": "python",
   "nbconvert_exporter": "python",
   "pygments_lexer": "ipython3",
   "version": "3.9.13"
  }
 },
 "nbformat": 4,
 "nbformat_minor": 2
}
