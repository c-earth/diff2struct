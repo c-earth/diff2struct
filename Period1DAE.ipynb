{
 "cells": [
  {
   "cell_type": "markdown",
   "metadata": {},
   "source": [
    "# Generate 1D periodic data"
   ]
  },
  {
   "cell_type": "code",
   "execution_count": 1,
   "metadata": {},
   "outputs": [],
   "source": [
    "import numpy as np\n",
    "\n",
    "def gaussian(x, A, u, s):\n",
    "    return A * np.exp(-((x - u)/s)**2/2)/(np.sqrt(2*np.pi)*s)\n",
    "\n",
    "def wrap_gaussian(x, A, u, s):\n",
    "    in_dis = np.abs(x-u)\n",
    "    x_dis = np.minimum(in_dis, 1-in_dis)\n",
    "    return gaussian(x_dis, A, 0, s)\n",
    "\n",
    "def range_sampling(value_range, size):\n",
    "    return np.random.random(size = size) * (value_range[1] - value_range[0]) + value_range[0]"
   ]
  },
  {
   "cell_type": "code",
   "execution_count": 2,
   "metadata": {},
   "outputs": [],
   "source": [
    "data_num = 5000\n",
    "n_max = 7\n",
    "A_range = [0.00, 5.00]\n",
    "u_range = [0.00, 1.00]\n",
    "s_range = [0.001, 0.01]"
   ]
  },
  {
   "cell_type": "code",
   "execution_count": 3,
   "metadata": {},
   "outputs": [],
   "source": [
    "x = np.linspace(0.0, 1.0, 257)[:-1]\n",
    "As = range_sampling(A_range, (data_num, 1, n_max))\n",
    "us = range_sampling(u_range, (data_num, 1, n_max))\n",
    "ss = range_sampling(s_range, (data_num, 1, n_max))"
   ]
  },
  {
   "cell_type": "code",
   "execution_count": 4,
   "metadata": {},
   "outputs": [],
   "source": [
    "data = np.sum(wrap_gaussian(x.reshape(1, -1, 1), As, us, ss), axis = -1)"
   ]
  },
  {
   "cell_type": "markdown",
   "metadata": {},
   "source": [
    "# Visualize a data sample"
   ]
  },
  {
   "cell_type": "code",
   "execution_count": 6,
   "metadata": {},
   "outputs": [
    {
     "data": {
      "image/png": "[encoded data removed]",
      "text/plain": [
       "<Figure size 640x480 with 1 Axes>"
      ]
     },
     "metadata": {},
     "output_type": "display_data"
    }
   ],
   "source": [
    "import matplotlib.pyplot as plt\n",
    "\n",
    "plt.figure()\n",
    "plt.plot(x, data[0])\n",
    "plt.show()"
   ]
  },
  {
   "cell_type": "markdown",
   "metadata": {},
   "source": [
    "# 1D Periodic Autoencoder Class"
   ]
  },
  {
   "cell_type": "code",
   "execution_count": 7,
   "metadata": {},
   "outputs": [],
   "source": [
    "import torch.nn as nn"
   ]
  },
  {
   "cell_type": "code",
   "execution_count": 8,
   "metadata": {},
   "outputs": [],
   "source": [
    "def PConv1d(in_channels, out_channels, padding):\n",
    "    return nn.Sequential(\n",
    "                            nn.CircularPad1d(padding),\n",
    "                            nn.Conv1d(in_channels, out_channels, 2*padding+1)\n",
    "                        )"
   ]
  },
  {
   "cell_type": "code",
   "execution_count": null,
   "metadata": {},
   "outputs": [],
   "source": [
    "class PAE(nn.Module):\n",
    "    def __init__(self):\n",
    "        super(PAE, self).__init__()\n",
    "        self.content_encoder = nn.Sequential(\n",
    "                                                PConv1d(1, 1, 1),   # 256\n",
    "                                                nn.ReLU(),\n",
    "                                                nn.MaxPool1d(2, 2),\n",
    "                                                PConv1d(1, 2, 1),   # 128\n",
    "                                                nn.ReLU(),\n",
    "                                                nn.MaxPool1d(2, 2),\n",
    "                                                PConv1d(2, 2, 1),   # 64\n",
    "                                                nn.ReLU(),\n",
    "                                                nn.MaxPool1d(2, 2),\n",
    "                                                PConv1d(2, 4, 1),   # 32\n",
    "                                                nn.ReLU(),\n",
    "                                                nn.MaxPool1d(2, 2),\n",
    "                                                PConv1d(4, 4, 1),   # 16\n",
    "                                                nn.ReLU(),\n",
    "                                                nn.MaxPool1d(2, 2),\n",
    "                                                PConv1d(4, 8, 1),   # 8\n",
    "                                                nn.ReLU(),\n",
    "                                                nn.MaxPool1d(2, 2),\n",
    "                                                PConv1d(8, 16, 1),  # 4\n",
    "                                                nn.ReLU(),\n",
    "                                                nn.MaxPool1d(2, 2),\n",
    "                                                PConv1d(16, 32, 1), # 2\n",
    "                                                nn.ReLU(),\n",
    "                                                nn.MaxPool1d(2, 2),\n",
    "                                            )\n",
    "        self.context_encoder = nn.Sequential(\n",
    "                                                nn.Conv1d(1, 1, 1), # 256\n",
    "                                                nn.ReLU(),\n",
    "                                                nn.MaxPool1d(2, 2),\n",
    "                                                nn.Conv1d(1, 1, 1), # 128\n",
    "                                                nn.ReLU(),\n",
    "                                                nn.MaxPool1d(2, 2),\n",
    "                                                nn.Conv1d(1, 1, 1), # 64\n",
    "                                                nn.ReLU(),\n",
    "                                                nn.MaxPool1d(2, 2),\n",
    "                                                nn.Conv1d(1, 1, 1), # 32\n",
    "                                                nn.ReLU(),\n",
    "                                                nn.MaxPool1d(2, 2),\n",
    "                                                nn.Conv1d(1, 1, 1), # 16\n",
    "                                                nn.ReLU(),\n",
    "                                                nn.MaxPool1d(2, 2),\n",
    "                                                nn.Conv1d(1, 1, 1), # 8\n",
    "                                                nn.ReLU(),\n",
    "                                                nn.MaxPool1d(2, 2),\n",
    "                                                nn.Conv1d(1, 1, 1), # 4\n",
    "                                                nn.ReLU(),\n",
    "                                                nn.MaxPool1d(2, 2),\n",
    "                                            )\n",
    "        self.decoder = nn.Sequential()"
   ]
  }
 ],
 "metadata": {
  "kernelspec": {
   "display_name": "diff2struct",
   "language": "python",
   "name": "python3"
  },
  "language_info": {
   "codemirror_mode": {
    "name": "ipython",
    "version": 3
   },
   "file_extension": ".py",
   "mimetype": "text/x-python",
   "name": "python",
   "nbconvert_exporter": "python",
   "pygments_lexer": "ipython3",
   "version": "3.9.13"
  }
 },
 "nbformat": 4,
 "nbformat_minor": 2
}
