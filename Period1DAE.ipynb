{
 "cells": [
  {
   "cell_type": "code",
   "execution_count": 1,
   "metadata": {},
   "outputs": [],
   "source": [
    "import numpy as np"
   ]
  },
  {
   "cell_type": "code",
   "execution_count": 2,
   "metadata": {},
   "outputs": [],
   "source": [
    "def gaussian(x, A, u, s):\n",
    "    return A * np.exp(-((x - u)/s)**2/2)/(np.sqrt(2*np.pi)*s)"
   ]
  },
  {
   "cell_type": "code",
   "execution_count": 3,
   "metadata": {},
   "outputs": [],
   "source": [
    "x = np.arange(0, 1, 0.001)"
   ]
  },
  {
   "cell_type": "code",
   "execution_count": 4,
   "metadata": {},
   "outputs": [],
   "source": [
    "def wrap_gaussian(x, A, u, s):\n",
    "    in_dis = np.abs(x-u)\n",
    "    x_dis = np.minimum(in_dis, 1-in_dis)\n",
    "    return gaussian(x_dis, A, 0, s)"
   ]
  },
  {
   "cell_type": "code",
   "execution_count": 5,
   "metadata": {},
   "outputs": [],
   "source": [
    "data_num = 5000\n",
    "n_max = 7\n",
    "A_range = [0.00, 5.00]\n",
    "u_range = [0.00, 1.00]\n",
    "s_range = [0.001, 0.01]"
   ]
  },
  {
   "cell_type": "code",
   "execution_count": 6,
   "metadata": {},
   "outputs": [],
   "source": [
    "def range_sampling(value_range, size):\n",
    "    return np.random.random(size = size) * (value_range[1] - value_range[0]) + value_range[0]"
   ]
  },
  {
   "cell_type": "code",
   "execution_count": 7,
   "metadata": {},
   "outputs": [],
   "source": [
    "As = range_sampling(A_range, (data_num, 1, n_max))\n",
    "us = range_sampling(u_range, (data_num, 1, n_max))\n",
    "ss = range_sampling(s_range, (data_num, 1, n_max))"
   ]
  },
  {
   "cell_type": "code",
   "execution_count": 8,
   "metadata": {},
   "outputs": [],
   "source": [
    "data = np.sum(wrap_gaussian(x.reshape(1, -1, 1), As, us, ss), axis = -1)"
   ]
  },
  {
   "cell_type": "code",
   "execution_count": 12,
   "metadata": {},
   "outputs": [],
   "source": [
    "import torch.nn as nn"
   ]
  },
  {
   "cell_type": "code",
   "execution_count": null,
   "metadata": {},
   "outputs": [],
   "source": [
    "def PConv1d(in_channels, out_channels, padding):\n",
    "    return nn.Sequential(\n",
    "                            nn.CircularPad1d(padding),\n",
    "                            nn.Conv1d(in_channels, out_channels, 2*padding+1)\n",
    "                        )\n",
    "\n",
    "def PMaxPool2d(padding):\n",
    "    return nn.Sequential(\n",
    "                            nn.CircularPad1d(padding),\n",
    "                            nn.MaxPool1d()\n",
    "                        )"
   ]
  },
  {
   "cell_type": "code",
   "execution_count": null,
   "metadata": {},
   "outputs": [],
   "source": [
    "class PAE(nn.Module):\n",
    "    def __init__(self):\n",
    "        super(PAE, self).__init__()\n",
    "        self.encoder = nn.Sequential(\n",
    "                                        nn.Conv2d(3, 16, kernel_size=3, stride=1, padding=1),\n",
    "                                        nn.ReLU(),\n",
    "                                        nn.MaxPool2d(kernel_size=2, stride=2),\n",
    "                                        nn.Conv2d(16, 8, kernel_size=3, stride=1, padding=1),\n",
    "                                        nn.ReLU(),\n",
    "                                        nn.MaxPool2d(kernel_size=2, stride=2)\n",
    "                                    )\n",
    "        self.decoder = nn.Sequential(\n",
    "                                        nn.ConvTranspose2d(8, 16, \n",
    "                                                        kernel_size=3, \n",
    "                                                        stride=2, \n",
    "                                                        padding=1, \n",
    "                                                        output_padding=1),\n",
    "                                        nn.ReLU(),\n",
    "                                        nn.ConvTranspose2d(16, 3, \n",
    "                                                        kernel_size=3, \n",
    "                                                        stride=2, \n",
    "                                                        padding=1, \n",
    "                                                        output_padding=1),\n",
    "                                        nn.Sigmoid()\n",
    "                                    )\n",
    "         \n",
    "    def forward(self, x):\n",
    "        x = self.encoder(x)\n",
    "        x = self.decoder(x)\n",
    "        return x"
   ]
  }
 ],
 "metadata": {
  "kernelspec": {
   "display_name": "diff2struct",
   "language": "python",
   "name": "python3"
  },
  "language_info": {
   "codemirror_mode": {
    "name": "ipython",
    "version": 3
   },
   "file_extension": ".py",
   "mimetype": "text/x-python",
   "name": "python",
   "nbconvert_exporter": "python",
   "pygments_lexer": "ipython3",
   "version": "3.9.13"
  }
 },
 "nbformat": 4,
 "nbformat_minor": 2
}
