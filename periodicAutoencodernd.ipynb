{
 "cells": [
  {
   "cell_type": "markdown",
   "metadata": {},
   "source": [
    "# Generate nD periodic data"
   ]
  },
  {
   "cell_type": "code",
   "execution_count": 1,
   "metadata": {},
   "outputs": [],
   "source": [
    "import numpy as np"
   ]
  },
  {
   "cell_type": "code",
   "execution_count": 2,
   "metadata": {},
   "outputs": [],
   "source": [
    "data_num = 4096\n",
    "n = 2\n",
    "m = 25\n",
    "resolution = 64"
   ]
  },
  {
   "cell_type": "code",
   "execution_count": 3,
   "metadata": {},
   "outputs": [],
   "source": [
    "values = np.random.choice(2, (data_num, m))\n",
    "locations = np.random.choice(resolution, (data_num, m, n))"
   ]
  },
  {
   "cell_type": "code",
   "execution_count": 4,
   "metadata": {},
   "outputs": [],
   "source": [
    "data = np.zeros((data_num, resolution, resolution))"
   ]
  },
  {
   "cell_type": "code",
   "execution_count": 5,
   "metadata": {},
   "outputs": [],
   "source": [
    "data[np.broadcast_to(np.arange(data_num)[:, None], (data_num, m)), locations[:, :, 0], locations[:, :, 1]] = values"
   ]
  },
  {
   "cell_type": "code",
   "execution_count": 6,
   "metadata": {},
   "outputs": [],
   "source": [
    "import matplotlib.pyplot as plt"
   ]
  },
  {
   "cell_type": "code",
   "execution_count": 7,
   "metadata": {},
   "outputs": [
    {
     "data": {
      "image/png": "[encoded data removed]",
      "text/plain": [
       "<Figure size 640x480 with 1 Axes>"
      ]
     },
     "metadata": {},
     "output_type": "display_data"
    }
   ],
   "source": [
    "plt.figure()\n",
    "plt.imshow(data[0])\n",
    "plt.show()"
   ]
  },
  {
   "cell_type": "code",
   "execution_count": 8,
   "metadata": {},
   "outputs": [],
   "source": [
    "import torch\n",
    "import torch.nn as nn\n",
    "import torch.nn.functional as F"
   ]
  },
  {
   "cell_type": "code",
   "execution_count": 9,
   "metadata": {},
   "outputs": [],
   "source": [
    "torch.set_default_dtype(torch.float64)"
   ]
  },
  {
   "cell_type": "code",
   "execution_count": 10,
   "metadata": {},
   "outputs": [
    {
     "name": "stdout",
     "output_type": "stream",
     "text": [
      "Running on the CPU\n"
     ]
    }
   ],
   "source": [
    "if torch.cuda.is_available():\n",
    "    device = torch.device('cuda')\n",
    "    print('Running on the GPU')\n",
    "else:\n",
    "    device = torch.device('cpu')\n",
    "    print('Running on the CPU')"
   ]
  },
  {
   "cell_type": "code",
   "execution_count": null,
   "metadata": {},
   "outputs": [],
   "source": [
    "class PConvnd(nn.Module):\n",
    "    def __init__(self, in_channels, out_channels, padding, n):\n",
    "        super(PConvnd, self).__init__()\n",
    "\n",
    "        self.padding = (padding, padding)\n",
    "        self.n = n\n",
    "        self.padding = (padding, padding)*self.n\n",
    "        self.convs = {1: nn.Conv1d, 2: nn.Conv2d, 3: nn.Conv3d}\n",
    "        self.convnd = self.convs[self.n](in_channels, out_channels, 2*padding+1)\n",
    "\n",
    "    def forward(self, x):\n",
    "        output = F.pad(x, self.padding, mode = 'circular')\n",
    "        output = self.convnd(output)\n",
    "        return output"
   ]
  },
  {
   "cell_type": "code",
   "execution_count": null,
   "metadata": {},
   "outputs": [],
   "source": [
    "class PMaxPoolnd(nn.Module):\n",
    "    def __init__(self, kernel_size, n):\n",
    "        super(PMaxPoolnd, self).__init__()\n",
    "\n",
    "        self.kernel_size = kernel_size\n",
    "        self.n = n\n",
    "        self.shifts = torch.cartesian_prod(*((torch.arange(kernel_size),)*n)).tolist()\n",
    "        self.max_pools = {1: F.max_pool1d, 2: F.max_pool2d, 3: F.max_pool3d}\n",
    "        self.roll_dims = {1: (-1), 2: (-2, -1), 3: (-3, -2, -1)}\n",
    "\n",
    "    def forward(self, x):\n",
    "        rolling = torch.stack([self.max_pools[self.n](torch.roll(x, shift, dims = self.roll_dims[self.n]), \n",
    "                                                      self.kernel_size, \n",
    "                                                      self.kernel_size) \n",
    "                               for shift in self.shifts])\n",
    "        picked = torch.argmax(torch.sum(rolling.view(self.kernel_size**self.n, x.size(0), -1), dim = -1), dim = 0)\n",
    "        output = torch.take_along_dim(rolling, picked.view(1, -1, 1, *((1,)*self.n)), dim = 0).squeeze(dim = 0)\n",
    "        return output, torch.tensor(self.shifts)[picked]"
   ]
  },
  {
   "cell_type": "code",
   "execution_count": null,
   "metadata": {},
   "outputs": [],
   "source": [
    "class PBNEncodernd(nn.Module):\n",
    "    def __init__(self, conv_dim, latent_dim, n):\n",
    "        super(PBNEncodernd, self).__init__()\n",
    "        self.conv_dim = conv_dim\n",
    "        self.n = n\n",
    "        self.lin1 = nn.Linear(2**n*conv_dim, latent_dim)\n",
    "        self.lin2 = nn.Linear(latent_dim, latent_dim)\n",
    "\n",
    "    def forward(self, x):\n",
    "        shifts = torch.argmax(torch.sum(x, dim = 1).view(x.shape[0], -1), dim = -1)\n",
    "        shift_next = shifts\n",
    "        shift_pull = torch.ones(x.shape[0], x.shape[1], *((1,)*self.n))\n",
    "        for i in range(self.n):\n",
    "            shift_axis = shift_next % 2\n",
    "            shift_next = shift_next // 2\n",
    "            shift_axis = shift_axis.reshape(shifts.shape[0], 1, *((1,)*self.n))\n",
    "            shift_axis = 2**i*torch.concat([shift_axis, 1-shift_axis], dim = -1-i)\n",
    "            shift_pull *= shift_axis\n",
    "\n",
    "        shift_pull = shift_pull.reshape(shifts.shape[0], 1, -1)\n",
    "\n",
    "        output = torch.gather(x.reshape(shifts.shape[0], shifts.shape[1], -1), -1, shift_pull)\n",
    "        output = output.view(-1, 2**self.n*self.conv_dim)\n",
    "        output = F.relu(self.lin1(output))\n",
    "        output = self.lin2(output)\n",
    "        return output, shifts"
   ]
  },
  {
   "cell_type": "code",
   "execution_count": null,
   "metadata": {},
   "outputs": [],
   "source": [
    "class PUpsamplend(nn.Module):\n",
    "    def __init__(self, scale_factor, n):\n",
    "        super(PUpsamplend, self).__init__()\n",
    "        self.scale_factor = scale_factor\n",
    "        self.n = n\n",
    "        self.conv_transposes = {1: F.conv_transpose1d, 2: F.conv_transpose2d, 3: F.conv_transpose3d}\n",
    "\n",
    "    def forward(self, x, shifts):\n",
    "        w = x.new_zeros(*((self.scale_factor,)*self.n))\n",
    "        w.view(-1)[0] = 1\n",
    "        output = self.conv_transposes[self.n](x, w.expand(x.size(1), 1, *((self.scale_factor,)*self.n)), stride = self.scale_factor, groups = x.size(1))\n",
    "        for i in range(self.n):\n",
    "            indices = (torch.arange(output.shape[2+i])[None, None, :].repeat(1, 2, 1) - shifts[:, i][:, None, None]) % output.shape[2+i]\n",
    "            output = torch.gather(output, 2+i, indices)\n",
    "        return output"
   ]
  },
  {
   "cell_type": "code",
   "execution_count": null,
   "metadata": {},
   "outputs": [],
   "source": [
    "class PBNDecoder(nn.Module):\n",
    "    def __init__(self, conv_dim, latent_dim, n):\n",
    "        super(PBNDecoder, self).__init__()\n",
    "        self.conv_dim = conv_dim\n",
    "        self.n = n\n",
    "        self.lin1 = nn.Linear(latent_dim, latent_dim)\n",
    "        self.lin2 = nn.Linear(latent_dim, 2**n*conv_dim)\n",
    "\n",
    "    def forward(self, x, shifts):\n",
    "        output = F.relu(self.lin1(x))\n",
    "        output = F.relu(self.lin2(output))\n",
    "        output = output.view(-1, self.conv_dim, 2)\n",
    "        indices = (torch.arange(output.shape[2])[None, None, :].repeat(1, output.shape[1], 1) + shifts[:, None, None]) % output.shape[2]\n",
    "        output = torch.gather(output, 2, indices)\n",
    "        return output"
   ]
  }
 ],
 "metadata": {
  "kernelspec": {
   "display_name": "diff2struct",
   "language": "python",
   "name": "python3"
  },
  "language_info": {
   "codemirror_mode": {
    "name": "ipython",
    "version": 3
   },
   "file_extension": ".py",
   "mimetype": "text/x-python",
   "name": "python",
   "nbconvert_exporter": "python",
   "pygments_lexer": "ipython3",
   "version": "3.9.13"
  }
 },
 "nbformat": 4,
 "nbformat_minor": 2
}
