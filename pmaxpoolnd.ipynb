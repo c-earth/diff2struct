{
 "cells": [
  {
   "cell_type": "code",
   "execution_count": 1,
   "metadata": {},
   "outputs": [],
   "source": [
    "import torch\n",
    "import torch.nn as nn\n",
    "import torch.nn.functional as F"
   ]
  },
  {
   "cell_type": "code",
   "execution_count": 2,
   "metadata": {},
   "outputs": [],
   "source": [
    "torch.set_default_dtype(torch.float64)"
   ]
  },
  {
   "cell_type": "code",
   "execution_count": 45,
   "metadata": {},
   "outputs": [],
   "source": [
    "class PMaxPoolnd(nn.Module):\n",
    "    def __init__(self, kernel_size, n):\n",
    "        super(PMaxPoolnd, self).__init__()\n",
    "\n",
    "        self.kernel_size = kernel_size\n",
    "        self.n = n\n",
    "        self.shifts = torch.cartesian_prod(*((torch.arange(kernel_size),)*n)).tolist()\n",
    "        self.max_pools = {1: F.max_pool1d, 2: F.max_pool2d, 3: F.max_pool3d}\n",
    "        self.roll_dims = {1: (-1), 2: (-2, -1), 3: (-3, -2, -1)}\n",
    "\n",
    "    def forward(self, x):\n",
    "        rolling = torch.stack([self.max_pools[self.n](torch.roll(x, shift, dims = self.roll_dims[self.n]), \n",
    "                                                      self.kernel_size, \n",
    "                                                      self.kernel_size) \n",
    "                               for shift in self.shifts])\n",
    "        picked = torch.argmax(torch.sum(rolling.view(self.kernel_size**self.n, x.size(0), -1), dim = -1), dim = 0)\n",
    "        output = torch.take_along_dim(rolling, picked.view(1, -1, 1, *((1,)*self.n)), dim = 0).squeeze(dim = 0)\n",
    "        return output, torch.tensor(self.shifts)[picked]"
   ]
  }
 ],
 "metadata": {
  "kernelspec": {
   "display_name": "diff2struct",
   "language": "python",
   "name": "python3"
  },
  "language_info": {
   "codemirror_mode": {
    "name": "ipython",
    "version": 3
   },
   "file_extension": ".py",
   "mimetype": "text/x-python",
   "name": "python",
   "nbconvert_exporter": "python",
   "pygments_lexer": "ipython3",
   "version": "3.9.13"
  }
 },
 "nbformat": 4,
 "nbformat_minor": 2
}
