{
 "cells": [
  {
   "cell_type": "code",
   "execution_count": 91,
   "metadata": {},
   "outputs": [],
   "source": [
    "import numpy as np\n",
    "import torch\n",
    "import torch.nn as nn\n",
    "import torch.nn.functional as F"
   ]
  },
  {
   "cell_type": "code",
   "execution_count": 92,
   "metadata": {},
   "outputs": [],
   "source": [
    "torch.set_default_dtype(torch.float64)"
   ]
  },
  {
   "cell_type": "code",
   "execution_count": 105,
   "metadata": {},
   "outputs": [],
   "source": [
    "class PUpsample(nn.Module):\n",
    "    def __init__(self, scale_factor):\n",
    "        super(PUpsample, self).__init__()\n",
    "        self.scale_factor = scale_factor\n",
    "\n",
    "    def forward(self, x, shifts):\n",
    "        print(x.shape)\n",
    "        output = torch.repeat_interleave(x, self.scale_factor)\n",
    "        print(output.shape)\n",
    "        output = output[(torch.arange(len(output))[None, :] - shifts) % len(output)]\n",
    "        print(output.shape)\n",
    "        return output"
   ]
  },
  {
   "cell_type": "code",
   "execution_count": 106,
   "metadata": {},
   "outputs": [],
   "source": [
    "x = torch.from_numpy(np.random.random((3, 2, 4)))\n",
    "shifts = torch.from_numpy(np.random.randint(0, 2, size = (3, 1)))"
   ]
  },
  {
   "cell_type": "code",
   "execution_count": 107,
   "metadata": {},
   "outputs": [
    {
     "data": {
      "text/plain": [
       "(tensor([[[0.1390, 0.6831, 0.7426, 0.0617],\n",
       "          [0.9107, 0.6000, 0.1101, 0.9481]],\n",
       " \n",
       "         [[0.0712, 0.1865, 0.0955, 0.4846],\n",
       "          [0.4249, 0.5007, 0.0622, 0.2640]],\n",
       " \n",
       "         [[0.1484, 0.5101, 0.4747, 0.0871],\n",
       "          [0.1806, 0.2707, 0.1077, 0.1910]]]),\n",
       " tensor([[1],\n",
       "         [0],\n",
       "         [0]], dtype=torch.int32))"
      ]
     },
     "execution_count": 107,
     "metadata": {},
     "output_type": "execute_result"
    }
   ],
   "source": [
    "x, shifts"
   ]
  },
  {
   "cell_type": "code",
   "execution_count": 108,
   "metadata": {},
   "outputs": [],
   "source": [
    "model = PUpsample(2)"
   ]
  },
  {
   "cell_type": "code",
   "execution_count": 109,
   "metadata": {},
   "outputs": [
    {
     "name": "stdout",
     "output_type": "stream",
     "text": [
      "torch.Size([3, 2, 4])\n",
      "torch.Size([48])\n",
      "torch.Size([3, 48])\n"
     ]
    }
   ],
   "source": [
    "output_x = model(x, shifts)"
   ]
  },
  {
   "cell_type": "code",
   "execution_count": 110,
   "metadata": {},
   "outputs": [
    {
     "data": {
      "text/plain": [
       "tensor([[0.1910, 0.1390, 0.1390, 0.6831, 0.6831, 0.7426, 0.7426, 0.0617, 0.0617,\n",
       "         0.9107, 0.9107, 0.6000, 0.6000, 0.1101, 0.1101, 0.9481, 0.9481, 0.0712,\n",
       "         0.0712, 0.1865, 0.1865, 0.0955, 0.0955, 0.4846, 0.4846, 0.4249, 0.4249,\n",
       "         0.5007, 0.5007, 0.0622, 0.0622, 0.2640, 0.2640, 0.1484, 0.1484, 0.5101,\n",
       "         0.5101, 0.4747, 0.4747, 0.0871, 0.0871, 0.1806, 0.1806, 0.2707, 0.2707,\n",
       "         0.1077, 0.1077, 0.1910],\n",
       "        [0.1390, 0.1390, 0.6831, 0.6831, 0.7426, 0.7426, 0.0617, 0.0617, 0.9107,\n",
       "         0.9107, 0.6000, 0.6000, 0.1101, 0.1101, 0.9481, 0.9481, 0.0712, 0.0712,\n",
       "         0.1865, 0.1865, 0.0955, 0.0955, 0.4846, 0.4846, 0.4249, 0.4249, 0.5007,\n",
       "         0.5007, 0.0622, 0.0622, 0.2640, 0.2640, 0.1484, 0.1484, 0.5101, 0.5101,\n",
       "         0.4747, 0.4747, 0.0871, 0.0871, 0.1806, 0.1806, 0.2707, 0.2707, 0.1077,\n",
       "         0.1077, 0.1910, 0.1910],\n",
       "        [0.1390, 0.1390, 0.6831, 0.6831, 0.7426, 0.7426, 0.0617, 0.0617, 0.9107,\n",
       "         0.9107, 0.6000, 0.6000, 0.1101, 0.1101, 0.9481, 0.9481, 0.0712, 0.0712,\n",
       "         0.1865, 0.1865, 0.0955, 0.0955, 0.4846, 0.4846, 0.4249, 0.4249, 0.5007,\n",
       "         0.5007, 0.0622, 0.0622, 0.2640, 0.2640, 0.1484, 0.1484, 0.5101, 0.5101,\n",
       "         0.4747, 0.4747, 0.0871, 0.0871, 0.1806, 0.1806, 0.2707, 0.2707, 0.1077,\n",
       "         0.1077, 0.1910, 0.1910]])"
      ]
     },
     "execution_count": 110,
     "metadata": {},
     "output_type": "execute_result"
    }
   ],
   "source": [
    "output_x"
   ]
  }
 ],
 "metadata": {
  "kernelspec": {
   "display_name": "diff2struct",
   "language": "python",
   "name": "python3"
  },
  "language_info": {
   "codemirror_mode": {
    "name": "ipython",
    "version": 3
   },
   "file_extension": ".py",
   "mimetype": "text/x-python",
   "name": "python",
   "nbconvert_exporter": "python",
   "pygments_lexer": "ipython3",
   "version": "3.9.13"
  }
 },
 "nbformat": 4,
 "nbformat_minor": 2
}
