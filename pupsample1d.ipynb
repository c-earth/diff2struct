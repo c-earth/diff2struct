{
 "cells": [
  {
   "cell_type": "code",
   "execution_count": 1,
   "metadata": {},
   "outputs": [],
   "source": [
    "import numpy as np\n",
    "import torch\n",
    "import torch.nn as nn\n",
    "import torch.nn.functional as F"
   ]
  },
  {
   "cell_type": "code",
   "execution_count": 2,
   "metadata": {},
   "outputs": [],
   "source": [
    "torch.set_default_dtype(torch.float64)"
   ]
  },
  {
   "cell_type": "code",
   "execution_count": 3,
   "metadata": {},
   "outputs": [],
   "source": [
    "class PUpsample(nn.Module):\n",
    "    def __init__(self, scale_factor):\n",
    "        super(PUpsample, self).__init__()\n",
    "        self.scale_factor = scale_factor\n",
    "\n",
    "    def forward(self, x, shifts):\n",
    "        w = x.new_zeros(self.scale_factor)\n",
    "        w[0] = 1\n",
    "        output = F.conv_transpose1d(x, w.expand(x.size(1), 1, self.scale_factor), stride = self.scale_factor, groups = x.size(1))\n",
    "        indices = (torch.arange(output.shape[2])[None, None, :].repeat(1, 2, 1) - shifts[:, None, None]) % output.shape[2]\n",
    "        output = torch.gather(output, 2, indices)\n",
    "        return output"
   ]
  },
  {
   "cell_type": "code",
   "execution_count": 4,
   "metadata": {},
   "outputs": [],
   "source": [
    "x = torch.from_numpy(np.random.random((3, 2, 4)))\n",
    "shifts = torch.from_numpy(np.random.randint(0, 2, size = 3))"
   ]
  },
  {
   "cell_type": "code",
   "execution_count": 5,
   "metadata": {},
   "outputs": [
    {
     "data": {
      "text/plain": [
       "tensor([[[0.9064, 0.6192, 0.6371, 0.9570],\n",
       "         [0.3092, 0.3479, 0.1468, 0.3169]],\n",
       "\n",
       "        [[0.8517, 0.2326, 0.6052, 0.1101],\n",
       "         [0.7037, 0.2392, 0.6133, 0.7115]],\n",
       "\n",
       "        [[0.0872, 0.8927, 0.1336, 0.4283],\n",
       "         [0.2905, 0.8835, 0.1832, 0.7394]]])"
      ]
     },
     "execution_count": 5,
     "metadata": {},
     "output_type": "execute_result"
    }
   ],
   "source": [
    "x"
   ]
  },
  {
   "cell_type": "code",
   "execution_count": 6,
   "metadata": {},
   "outputs": [
    {
     "data": {
      "text/plain": [
       "tensor([1, 0, 1], dtype=torch.int32)"
      ]
     },
     "execution_count": 6,
     "metadata": {},
     "output_type": "execute_result"
    }
   ],
   "source": [
    "shifts"
   ]
  },
  {
   "cell_type": "code",
   "execution_count": 7,
   "metadata": {},
   "outputs": [],
   "source": [
    "model = PUpsample(2)"
   ]
  },
  {
   "cell_type": "code",
   "execution_count": 8,
   "metadata": {},
   "outputs": [],
   "source": [
    "output_x = model(x, shifts)"
   ]
  },
  {
   "cell_type": "code",
   "execution_count": 9,
   "metadata": {},
   "outputs": [
    {
     "data": {
      "text/plain": [
       "tensor([[[0.0000, 0.9064, 0.0000, 0.6192, 0.0000, 0.6371, 0.0000, 0.9570],\n",
       "         [0.0000, 0.3092, 0.0000, 0.3479, 0.0000, 0.1468, 0.0000, 0.3169]],\n",
       "\n",
       "        [[0.8517, 0.0000, 0.2326, 0.0000, 0.6052, 0.0000, 0.1101, 0.0000],\n",
       "         [0.7037, 0.0000, 0.2392, 0.0000, 0.6133, 0.0000, 0.7115, 0.0000]],\n",
       "\n",
       "        [[0.0000, 0.0872, 0.0000, 0.8927, 0.0000, 0.1336, 0.0000, 0.4283],\n",
       "         [0.0000, 0.2905, 0.0000, 0.8835, 0.0000, 0.1832, 0.0000, 0.7394]]])"
      ]
     },
     "execution_count": 9,
     "metadata": {},
     "output_type": "execute_result"
    }
   ],
   "source": [
    "output_x"
   ]
  }
 ],
 "metadata": {
  "kernelspec": {
   "display_name": "diff2struct",
   "language": "python",
   "name": "python3"
  },
  "language_info": {
   "codemirror_mode": {
    "name": "ipython",
    "version": 3
   },
   "file_extension": ".py",
   "mimetype": "text/x-python",
   "name": "python",
   "nbconvert_exporter": "python",
   "pygments_lexer": "ipython3",
   "version": "3.9.13"
  }
 },
 "nbformat": 4,
 "nbformat_minor": 2
}
