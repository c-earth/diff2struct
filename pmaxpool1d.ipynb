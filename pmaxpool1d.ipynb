{
 "cells": [
  {
   "cell_type": "code",
   "execution_count": 1,
   "metadata": {},
   "outputs": [],
   "source": [
    "import numpy as np\n",
    "import torch\n",
    "import torch.nn as nn\n",
    "import torch.nn.functional as F"
   ]
  },
  {
   "cell_type": "code",
   "execution_count": 2,
   "metadata": {},
   "outputs": [],
   "source": [
    "torch.set_default_dtype(torch.float64)"
   ]
  },
  {
   "cell_type": "code",
   "execution_count": 63,
   "metadata": {},
   "outputs": [],
   "source": [
    "class PMaxPool1d(nn.Module):\n",
    "    def __init__(self, kernel_size):\n",
    "        super(PMaxPool1d, self).__init__()\n",
    "\n",
    "        self.kernel_size = kernel_size\n",
    "\n",
    "    def forward(self, x):\n",
    "        rolling = torch.stack([F.max_pool1d(torch.roll(x, i, dims = -1), self.kernel_size, self.kernel_size) for i in range(self.kernel_size)])\n",
    "        shifts = torch.argmax(torch.std(rolling.view(self.kernel_size, x.size(0), -1), dim = -1), dim = 0)\n",
    "        output = torch.take_along_dim(rolling, shifts.view(1, -1, 1, 1), dim = 0).squeeze(dim = 0)\n",
    "        return output, shifts"
   ]
  },
  {
   "cell_type": "code",
   "execution_count": 96,
   "metadata": {},
   "outputs": [],
   "source": [
    "x = torch.from_numpy(np.random.random((3, 2, 10)))"
   ]
  },
  {
   "cell_type": "code",
   "execution_count": 97,
   "metadata": {},
   "outputs": [
    {
     "data": {
      "text/plain": [
       "tensor([[[0.6767, 0.9651, 0.7962, 0.5681, 0.3010, 0.6574, 0.3765, 0.6910,\n",
       "          0.1010, 0.1385],\n",
       "         [0.0229, 0.7823, 0.4980, 0.8121, 0.4782, 0.4385, 0.2437, 0.6675,\n",
       "          0.5861, 0.8954]],\n",
       "\n",
       "        [[0.4388, 0.1923, 0.1977, 0.8696, 0.5331, 0.1061, 0.6925, 0.3167,\n",
       "          0.4269, 0.1175],\n",
       "         [0.0770, 0.6403, 0.4687, 0.8042, 0.8443, 0.6269, 0.6245, 0.3739,\n",
       "          0.4007, 0.4727]],\n",
       "\n",
       "        [[0.7495, 0.8998, 0.2174, 0.7644, 0.2314, 0.3336, 0.5375, 0.0495,\n",
       "          0.7012, 0.9177],\n",
       "         [0.8719, 0.9034, 0.9668, 0.1388, 0.5222, 0.6102, 0.3155, 0.6227,\n",
       "          0.0860, 0.2184]]])"
      ]
     },
     "execution_count": 97,
     "metadata": {},
     "output_type": "execute_result"
    }
   ],
   "source": [
    "x"
   ]
  },
  {
   "cell_type": "code",
   "execution_count": 98,
   "metadata": {},
   "outputs": [],
   "source": [
    "model = PMaxPool1d(2)"
   ]
  },
  {
   "cell_type": "code",
   "execution_count": 99,
   "metadata": {},
   "outputs": [],
   "source": [
    "output_x = model(x)"
   ]
  },
  {
   "cell_type": "code",
   "execution_count": 105,
   "metadata": {},
   "outputs": [],
   "source": [
    "y = torch.roll(x, 2, dims = -1)"
   ]
  },
  {
   "cell_type": "code",
   "execution_count": 106,
   "metadata": {},
   "outputs": [
    {
     "data": {
      "text/plain": [
       "tensor([[[0.1010, 0.1385, 0.6767, 0.9651, 0.7962, 0.5681, 0.3010, 0.6574,\n",
       "          0.3765, 0.6910],\n",
       "         [0.5861, 0.8954, 0.0229, 0.7823, 0.4980, 0.8121, 0.4782, 0.4385,\n",
       "          0.2437, 0.6675]],\n",
       "\n",
       "        [[0.4269, 0.1175, 0.4388, 0.1923, 0.1977, 0.8696, 0.5331, 0.1061,\n",
       "          0.6925, 0.3167],\n",
       "         [0.4007, 0.4727, 0.0770, 0.6403, 0.4687, 0.8042, 0.8443, 0.6269,\n",
       "          0.6245, 0.3739]],\n",
       "\n",
       "        [[0.7012, 0.9177, 0.7495, 0.8998, 0.2174, 0.7644, 0.2314, 0.3336,\n",
       "          0.5375, 0.0495],\n",
       "         [0.0860, 0.2184, 0.8719, 0.9034, 0.9668, 0.1388, 0.5222, 0.6102,\n",
       "          0.3155, 0.6227]]])"
      ]
     },
     "execution_count": 106,
     "metadata": {},
     "output_type": "execute_result"
    }
   ],
   "source": [
    "y"
   ]
  },
  {
   "cell_type": "code",
   "execution_count": 107,
   "metadata": {},
   "outputs": [],
   "source": [
    "output_y = model(y)"
   ]
  },
  {
   "cell_type": "code",
   "execution_count": 108,
   "metadata": {},
   "outputs": [
    {
     "data": {
      "text/plain": [
       "(tensor([[[0.9651, 0.7962, 0.6574, 0.6910, 0.1385],\n",
       "          [0.7823, 0.8121, 0.4782, 0.6675, 0.8954]],\n",
       " \n",
       "         [[0.4388, 0.1977, 0.8696, 0.6925, 0.4269],\n",
       "          [0.4727, 0.6403, 0.8443, 0.6269, 0.4007]],\n",
       " \n",
       "         [[0.8998, 0.7644, 0.3336, 0.5375, 0.9177],\n",
       "          [0.9034, 0.9668, 0.6102, 0.6227, 0.2184]]]),\n",
       " tensor([0, 1, 0]))"
      ]
     },
     "execution_count": 108,
     "metadata": {},
     "output_type": "execute_result"
    }
   ],
   "source": [
    "output_x"
   ]
  },
  {
   "cell_type": "code",
   "execution_count": 109,
   "metadata": {},
   "outputs": [
    {
     "data": {
      "text/plain": [
       "(tensor([[[0.1385, 0.9651, 0.7962, 0.6574, 0.6910],\n",
       "          [0.8954, 0.7823, 0.8121, 0.4782, 0.6675]],\n",
       " \n",
       "         [[0.4269, 0.4388, 0.1977, 0.8696, 0.6925],\n",
       "          [0.4007, 0.4727, 0.6403, 0.8443, 0.6269]],\n",
       " \n",
       "         [[0.9177, 0.8998, 0.7644, 0.3336, 0.5375],\n",
       "          [0.2184, 0.9034, 0.9668, 0.6102, 0.6227]]]),\n",
       " tensor([0, 1, 0]))"
      ]
     },
     "execution_count": 109,
     "metadata": {},
     "output_type": "execute_result"
    }
   ],
   "source": [
    "output_y"
   ]
  }
 ],
 "metadata": {
  "kernelspec": {
   "display_name": "diff2struct",
   "language": "python",
   "name": "python3"
  },
  "language_info": {
   "codemirror_mode": {
    "name": "ipython",
    "version": 3
   },
   "file_extension": ".py",
   "mimetype": "text/x-python",
   "name": "python",
   "nbconvert_exporter": "python",
   "pygments_lexer": "ipython3",
   "version": "3.9.13"
  }
 },
 "nbformat": 4,
 "nbformat_minor": 2
}
